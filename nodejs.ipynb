{
  "nbformat": 4,
  "nbformat_minor": 0,
  "metadata": {
    "colab": {
      "provenance": []
    },
    "kernelspec": {
      "name": "python3",
      "display_name": "Python 3"
    },
    "language_info": {
      "name": "python"
    }
  },
  "cells": [
    {
      "cell_type": "code",
      "execution_count": null,
      "metadata": {
        "id": "7D0eeU-GS7zp"
      },
      "outputs": [],
      "source": []
    },
    {
      "cell_type": "markdown",
      "source": [
        "Q1. Describe Node.js Architecture and Working\n",
        "\n",
        "Questions\n",
        "\n",
        "Describe the single-threaded, event-driven architecture of Node.jsi\n",
        "\n",
        "Why is this architecture suitable for I/O-heavy applications?\n",
        "\n"
      ],
      "metadata": {
        "id": "b0iMkTLxS8rn"
      }
    },
    {
      "cell_type": "markdown",
      "source": [
        "1.Node.js Architecture:\n",
        "\n",
        "Node.js uses a single-threaded, event-driven architecture built on top of Google’s V8 JavaScript engine and libuv, a library that provides asynchronous I/O.\n",
        "\n",
        "At the core, Node.js follows the \"non-blocking I/O\" model and operates on a \"single-threaded event loop\" to handle multiple client requests efficiently without creating multiple threads.\n",
        "\n",
        "2.Single-Threaded, Event-Driven Model:\n",
        "\n",
        "In traditional server architectures (like Apache), each incoming request is handled by a separate thread, leading to high memory and CPU usage when handling many concurrent users.\n",
        "\n",
        "In contrast, Node.js handles all requests using a single thread. It uses an event loop that listens for events (like incoming HTTP requests, file reads, etc.) and delegates blocking operations (e.g., disk or network I/O) to worker threads in the background (thread pool).\n",
        "\n",
        "Here’s how it works:\n",
        "\n",
        "Client sends a request (e.g., read a file).\n",
        "\n",
        "Node.js receives the request on the main thread.\n",
        "\n",
        "If the request is non-blocking, it is processed directly.\n",
        "\n",
        "If the request is blocking (like file system or database access), Node.js delegates it to worker threads using the libuv library.\n",
        "\n",
        "Once the worker finishes, the result is passed back to the main thread via a callback or promise, and the event loop continues.\n",
        "\n",
        "3.Why This Architecture is Suitable for I/O-Heavy Applications:\n",
        "\n",
        "No Blocking: Since Node.js doesn't block the main thread on I/O operations, it can handle thousands of simultaneous requests.\n",
        "\n",
        "Scalability: The event-driven model scales very well for real-time apps, APIs, and microservices.\n",
        "\n",
        "Low Resource Usage: Unlike multi-threaded servers, Node.js doesn't spawn a new thread per request, making it memory-efficient.\n",
        "\n",
        "Best for I/O: Applications that rely heavily on disk or network access (e.g., web servers, chat apps, streaming services, etc.) benefit the most.\n",
        "\n"
      ],
      "metadata": {
        "id": "sWrSTFGcTLgA"
      }
    },
    {
      "cell_type": "markdown",
      "source": [
        "Q2. Understanding the Node.js Module System\n",
        "\n",
        "Questions\n",
        "\n",
        "What is the Node.js module system?\n",
        "\n",
        "How are modules created and loaded in Node.js\n",
        "\n",
        "Create a simple custom module math.js that exports a function to add two numbers, and demonstrate\n",
        "loading and using this module in a separate script."
      ],
      "metadata": {
        "id": "_pKc-DM0TVmL"
      }
    },
    {
      "cell_type": "markdown",
      "source": [
        "What is the Node.js Module System?\n",
        "The Node.js module system is a way to organize and reuse code by dividing it into independent files or modules. Each file in Node.js is treated as a separate module.\n",
        "\n",
        "There are two primary types of modules in Node.js:\n",
        "\n",
        "Built-in modules (e.g., fs, http, path)\n",
        "\n",
        "Custom modules (created by the user)\n",
        "\n",
        "Third-party modules (installed via npm, e.g., express)\n",
        "\n",
        "How Are Modules Created and Loaded in Node.js?\n",
        "\n",
        "Creating a module: You use module.exports or exports to expose variables/functions from a file.\n",
        "\n",
        "Loading a module: You use the require() function to import that module in another file."
      ],
      "metadata": {
        "id": "kSBJQSn1TjhL"
      }
    },
    {
      "cell_type": "code",
      "source": [
        "\n",
        "\n",
        "function add(a, b) {\n",
        "  return a + b;\n",
        "}\n",
        "\n",
        "// Export the function\n",
        "module.exports = {\n",
        "  add\n",
        "};\n"
      ],
      "metadata": {
        "id": "DLDu1O7jTxEL"
      },
      "execution_count": null,
      "outputs": []
    },
    {
      "cell_type": "code",
      "source": [
        "\n",
        "\n",
        "\n",
        "const math = require('./math');\n",
        "\n",
        "const result = math.add(10, 5);\n",
        "\n",
        "console.log(\"The result is:\", result);\n"
      ],
      "metadata": {
        "id": "yLw6OAPlT2I8"
      },
      "execution_count": null,
      "outputs": []
    },
    {
      "cell_type": "markdown",
      "source": [
        "Q3: Write a Node.js script to read the contents of a file synchronously and log it to the console."
      ],
      "metadata": {
        "id": "BkYrgfh3VHDv"
      }
    },
    {
      "cell_type": "code",
      "source": [
        "\n",
        "const fs = require('fs');\n",
        "\n",
        "const filePath = './example.txt';\n",
        "\n",
        "try {\n",
        "  // Read the file synchronously\n",
        "  const data = fs.readFileSync(filePath, 'utf8');\n",
        "\n",
        "  // Log the file contents\n",
        "  console.log('File Contents:\\n', data);\n",
        "} catch (err) {\n",
        "  console.error('Error reading file:', err.message);\n",
        "}\n"
      ],
      "metadata": {
        "id": "yiJdxpvYVQ-g"
      },
      "execution_count": null,
      "outputs": []
    },
    {
      "cell_type": "markdown",
      "source": [
        "Q4: Write a Node.js script to rename a file named oldFile.txt to newFile.txt."
      ],
      "metadata": {
        "id": "ScU_gHOpVWFg"
      }
    },
    {
      "cell_type": "code",
      "source": [
        "const fs = require('fs');\n",
        "\n",
        "const oldPath = './oldFile.txt';\n",
        "const newPath = './newFile.txt';\n",
        "\n",
        "fs.rename(oldPath, newPath, (err) => {\n",
        "  if (err) {\n",
        "    return console.error('Error renaming file:', err.message);\n",
        "  }\n",
        "  console.log(`File renamed from ${oldPath} to ${newPath} successfully.`);\n",
        "});\n"
      ],
      "metadata": {
        "id": "JzbwuVnUVW5D"
      },
      "execution_count": null,
      "outputs": []
    },
    {
      "cell_type": "markdown",
      "source": [
        "Q5. Working with OS Module\n",
        "\n",
        "Questions:\n",
        "\n",
        "What is the OS module in Node.js?\n",
        "\n",
        "Write a script that logs the system's total memory and free memory using the os module."
      ],
      "metadata": {
        "id": "Si0i543zVc60"
      }
    },
    {
      "cell_type": "markdown",
      "source": [
        "The OS module in Node.js is a built-in module that provides operating system-related utility methods and properties. It allows you to interact with the underlying operating system, such as getting information about the system's memory, CPU, network interfaces, and more."
      ],
      "metadata": {
        "id": "1kU2DOheVlI9"
      }
    },
    {
      "cell_type": "code",
      "source": [
        "const os = require('os');\n",
        "\n",
        "const totalMemory = os.totalmem();\n",
        "\n",
        "const freeMemory = os.freemem();\n",
        "\n",
        "console.log(`Total Memory: ${(totalMemory / (1024 ** 3)).toFixed(2)} GB`);\n",
        "console.log(`Free Memory: ${(freeMemory / (1024 ** 3)).toFixed(2)} GB`);\n"
      ],
      "metadata": {
        "id": "OwPEpa40VrMU"
      },
      "execution_count": null,
      "outputs": []
    }
  ]
}